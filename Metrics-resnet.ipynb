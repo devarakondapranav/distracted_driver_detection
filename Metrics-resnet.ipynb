{
 "cells": [
  {
   "cell_type": "code",
   "execution_count": 1,
   "metadata": {},
   "outputs": [],
   "source": [
    "from  tensorflow.keras.models import load_model\n",
    "from tensorflow.keras.preprocessing import image\n",
    "import tensorflow as tf\n",
    "import numpy as np\n",
    "import os"
   ]
  },
  {
   "cell_type": "code",
   "execution_count": 2,
   "metadata": {},
   "outputs": [],
   "source": [
    "new_model = load_model('res_22k_reg_2_twoDense_relu.h5', custom_objects={'leaky_relu': tf.nn.leaky_relu})"
   ]
  },
  {
   "cell_type": "code",
   "execution_count": 3,
   "metadata": {},
   "outputs": [
    {
     "name": "stdout",
     "output_type": "stream",
     "text": [
      "{0: [0, 0], 1: [0, 0], 2: [0, 0], 3: [0, 0], 4: [0, 0], 5: [0, 0], 6: [0, 0], 7: [0, 0], 8: [0, 0], 9: [0, 0]}\n"
     ]
    }
   ],
   "source": [
    "m = {x: [0, 0] for x in range(10)}\n",
    "print(m)"
   ]
  },
  {
   "cell_type": "code",
   "execution_count": 4,
   "metadata": {},
   "outputs": [
    {
     "name": "stdout",
     "output_type": "stream",
     "text": [
      "41\n",
      "41\n",
      "41\n",
      "41\n",
      "41\n",
      "41\n",
      "41\n",
      "41\n",
      "41\n",
      "41\n",
      "76.82926829268293\n"
     ]
    }
   ],
   "source": [
    "import cv2\n",
    "for i in range(10):\n",
    "    path = \"C:\\\\Users\\\\PranavDevarakonda\\\\Documents\\\\project_papers\\\\testing\\\\test\\\\c\" + str(i)\n",
    "    j = 0\n",
    "    for file in os.listdir(path):\n",
    "#         img = image.load_img(path + \"\\\\\" + file ,target_size=(224,224))\n",
    "#         img = np.asarray(img)\n",
    "#         img = np.expand_dims(img, axis=0)\n",
    "#         img = img.astype('float32')\n",
    "        \n",
    "        im = cv2.imread(path + \"\\\\\" + file )\n",
    "        im = cv2.resize(im, dsize=(224,224))\n",
    "        from tensorflow.keras.applications.resnet50 import preprocess_input\n",
    "        im = preprocess_input(im)\n",
    "        im = im.reshape((1, 224, 224, 3))\n",
    "        \n",
    "        output = new_model.predict(im)\n",
    "        \n",
    "        if(max(output[0]) == output[0][i]):\n",
    "            m[i][0] += 1\n",
    "        else:\n",
    "            m[i][1] += 1\n",
    "        \n",
    "        j+=1\n",
    "    print(j)\n",
    "    \n",
    "correct = sum([m[x][0] for x in m])\n",
    "incorrect = sum(m[x][1] for x in m)\n",
    "\n",
    "print(correct/(correct + incorrect)*100)\n",
    "            \n",
    "        \n",
    "        \n",
    "\n"
   ]
  },
  {
   "cell_type": "code",
   "execution_count": 5,
   "metadata": {},
   "outputs": [
    {
     "name": "stdout",
     "output_type": "stream",
     "text": [
      "safe driving: Accuracy -> 97.5609756097561\n",
      "\n",
      "texting - right: Accuracy -> 100.0\n",
      "\n",
      "talking on the phone - right: Accuracy -> 100.0\n",
      "\n",
      "texting - left: Accuracy -> 100.0\n",
      "\n",
      "talking on the phone - left: Accuracy -> 100.0\n",
      "\n",
      "operating the radio: Accuracy -> 97.5609756097561\n",
      "\n",
      "drinking: Accuracy -> 95.1219512195122\n",
      "\n",
      "reaching behind: Accuracy -> 95.1219512195122\n",
      "\n",
      "hair and makeup: Accuracy -> 85.36585365853658\n",
      "\n",
      "talking to passenger: Accuracy -> 90.2439024390244\n",
      "\n"
     ]
    }
   ],
   "source": [
    "for i in range(10):\n",
    "    l = m[i]\n",
    "    s = {0: \"safe driving\",\n",
    "    1: \"texting - right\",\n",
    "    2: \"talking on the phone - right\",\n",
    "    3: \"texting - left\",\n",
    "    4: \"talking on the phone - left\",\n",
    "    5: \"operating the radio\",\n",
    "    6: \"drinking\",\n",
    "    7: \"reaching behind\",\n",
    "    8: \"hair and makeup\",\n",
    "    9: \"talking to passenger\"}\n",
    "    print(s[i] + \": Accuracy -> \" + str(l[0]/(l[0] + l[1])*100))\n",
    "    print()"
   ]
  },
  {
   "cell_type": "code",
   "execution_count": null,
   "metadata": {},
   "outputs": [],
   "source": []
  }
 ],
 "metadata": {
  "kernelspec": {
   "display_name": "Python 3",
   "language": "python",
   "name": "python3"
  },
  "language_info": {
   "codemirror_mode": {
    "name": "ipython",
    "version": 3
   },
   "file_extension": ".py",
   "mimetype": "text/x-python",
   "name": "python",
   "nbconvert_exporter": "python",
   "pygments_lexer": "ipython3",
   "version": "3.6.8"
  }
 },
 "nbformat": 4,
 "nbformat_minor": 2
}
